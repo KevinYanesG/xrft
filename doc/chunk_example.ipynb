{
 "cells": [
  {
   "cell_type": "code",
   "execution_count": 19,
   "metadata": {},
   "outputs": [],
   "source": [
    "import numpy as np\n",
    "import numpy.testing as npt\n",
    "import xarray as xr\n",
    "import xrft\n",
    "import dask.array as dsar\n",
    "import matplotlib.pyplot as plt\n",
    "%matplotlib inline"
   ]
  },
  {
   "cell_type": "markdown",
   "metadata": {},
   "source": [
    "# Parallelized Bartlett's Method\n",
    "For long data sets that have reached statistical equilibrium, it is useful to chunk the data, calculate the periodogram for each chunk and then take the average to reduce variance."
   ]
  },
  {
   "cell_type": "code",
   "execution_count": 2,
   "metadata": {},
   "outputs": [
    {
     "data": {
      "text/plain": [
       "<xarray.DataArray (time: 1000, z: 10, y: 10, x: 10)>\n",
       "dask.array<xarray-<this-array>, shape=(1000, 10, 10, 10), dtype=float64, chunksize=(100, 10, 10, 10)>\n",
       "Dimensions without coordinates: time, z, y, x"
      ]
     },
     "execution_count": 2,
     "metadata": {},
     "output_type": "execute_result"
    }
   ],
   "source": [
    "da = xr.DataArray(np.random.rand(1000,10,10,10), dims=['time','z','y','x']).chunk({'time': 100})\n",
    "da"
   ]
  },
  {
   "cell_type": "markdown",
   "metadata": {},
   "source": [
    "## Discrete Fourier Transform"
   ]
  },
  {
   "cell_type": "code",
   "execution_count": 13,
   "metadata": {},
   "outputs": [
    {
     "data": {
      "text/plain": [
       "<xarray.DataArray 'fftn-15e9daef3945fb8e97407e583758847f' (time_segment: 10, freq_time: 100, z: 10, y: 10, x: 10)>\n",
       "array([[[[[ 50.565504+0.j      , ...,  46.715845+0.j      ],\n",
       "          ..., \n",
       "          [ 43.452304+0.j      , ...,  52.498130+0.j      ]],\n",
       "\n",
       "         ..., \n",
       "         [[ 42.607697+0.j      , ...,  45.384085+0.j      ],\n",
       "          ..., \n",
       "          [ 49.330025+0.j      , ...,  47.408991+0.j      ]]],\n",
       "\n",
       "\n",
       "        ..., \n",
       "        [[[  2.937109-0.617155j, ...,   0.343051+3.858127j],\n",
       "          ..., \n",
       "          [ -0.079547+1.197377j, ...,  -0.285727+1.086348j]],\n",
       "\n",
       "         ..., \n",
       "         [[  0.145711+3.298199j, ...,  -2.719922-1.801007j],\n",
       "          ..., \n",
       "          [ -0.232362+3.111515j, ...,  -3.872590-1.59734j ]]]],\n",
       "\n",
       "\n",
       "\n",
       "       ..., \n",
       "       [[[[ 54.070365+0.j      , ...,  47.395892+0.j      ],\n",
       "          ..., \n",
       "          [ 50.029431+0.j      , ...,  53.920729+0.j      ]],\n",
       "\n",
       "         ..., \n",
       "         [[ 55.782114+0.j      , ...,  51.865736+0.j      ],\n",
       "          ..., \n",
       "          [ 52.645430+0.j      , ...,  47.844483+0.j      ]]],\n",
       "\n",
       "\n",
       "        ..., \n",
       "        [[[  1.491194+0.796513j, ...,  -2.007514-0.107289j],\n",
       "          ..., \n",
       "          [  1.666569-0.036991j, ...,   0.398271-2.655539j]],\n",
       "\n",
       "         ..., \n",
       "         [[ -1.504449+2.410053j, ...,   2.819793-0.395146j],\n",
       "          ..., \n",
       "          [ -1.199957-0.038446j, ...,  -0.809918-1.870923j]]]]])\n",
       "Coordinates:\n",
       "  * time_segment       (time_segment) int64 0 1 2 3 4 5 6 7 8 9\n",
       "  * freq_time          (freq_time) float64 0.0 0.01 0.02 0.03 0.04 0.05 0.06 ...\n",
       "  * z                  (z) int64 0 1 2 3 4 5 6 7 8 9\n",
       "  * y                  (y) int64 0 1 2 3 4 5 6 7 8 9\n",
       "  * x                  (x) int64 0 1 2 3 4 5 6 7 8 9\n",
       "    freq_time_spacing  float64 0.01"
      ]
     },
     "execution_count": 13,
     "metadata": {},
     "output_type": "execute_result"
    }
   ],
   "source": [
    "daft = xrft.dft(da, dim=['time'], shift=False , chunks_to_segments=True, seglen=100).compute()\n",
    "daft"
   ]
  },
  {
   "cell_type": "code",
   "execution_count": 14,
   "metadata": {},
   "outputs": [
    {
     "data": {
      "text/plain": [
       "<xarray.DataArray (time_segment: 10, freq_time: 100, z: 10, y: 10, x: 10)>\n",
       "array([[[[[ 50.565504+0.j      , ...,  46.715845+0.j      ],\n",
       "          ..., \n",
       "          [ 43.452304+0.j      , ...,  52.498130+0.j      ]],\n",
       "\n",
       "         ..., \n",
       "         [[ 42.607697+0.j      , ...,  45.384085+0.j      ],\n",
       "          ..., \n",
       "          [ 49.330025+0.j      , ...,  47.408991+0.j      ]]],\n",
       "\n",
       "\n",
       "        ..., \n",
       "        [[[  2.937109-0.617155j, ...,   0.343051+3.858127j],\n",
       "          ..., \n",
       "          [ -0.079547+1.197377j, ...,  -0.285727+1.086348j]],\n",
       "\n",
       "         ..., \n",
       "         [[  0.145711+3.298199j, ...,  -2.719922-1.801007j],\n",
       "          ..., \n",
       "          [ -0.232362+3.111515j, ...,  -3.872590-1.59734j ]]]],\n",
       "\n",
       "\n",
       "\n",
       "       ..., \n",
       "       [[[[ 54.070365+0.j      , ...,  47.395892+0.j      ],\n",
       "          ..., \n",
       "          [ 50.029431+0.j      , ...,  53.920729+0.j      ]],\n",
       "\n",
       "         ..., \n",
       "         [[ 55.782114+0.j      , ...,  51.865736+0.j      ],\n",
       "          ..., \n",
       "          [ 52.645430+0.j      , ...,  47.844483+0.j      ]]],\n",
       "\n",
       "\n",
       "        ..., \n",
       "        [[[  1.491194+0.796513j, ...,  -2.007514-0.107289j],\n",
       "          ..., \n",
       "          [  1.666569-0.036991j, ...,   0.398271-2.655539j]],\n",
       "\n",
       "         ..., \n",
       "         [[ -1.504449+2.410053j, ...,   2.819793-0.395146j],\n",
       "          ..., \n",
       "          [ -1.199957-0.038446j, ...,  -0.809918-1.870923j]]]]])\n",
       "Dimensions without coordinates: time_segment, freq_time, z, y, x"
      ]
     },
     "execution_count": 14,
     "metadata": {},
     "output_type": "execute_result"
    }
   ],
   "source": [
    "data = da.data\n",
    "data_rs = data.reshape((10,100,10,10,10))\n",
    "da_rs = xr.DataArray(data_rs, dims=['time_segment','time','z','y','x'])\n",
    "da1 = xr.DataArray(dsar.fft.fftn(data_rs, axes=[1]).compute(),\n",
    "                   dims=['time_segment','freq_time','z','y','x'])\n",
    "da1"
   ]
  },
  {
   "cell_type": "markdown",
   "metadata": {},
   "source": [
    "We assert that our calculations give equal results."
   ]
  },
  {
   "cell_type": "code",
   "execution_count": 15,
   "metadata": {},
   "outputs": [],
   "source": [
    "npt.assert_almost_equal(da1, daft.values)"
   ]
  },
  {
   "cell_type": "markdown",
   "metadata": {},
   "source": [
    "## Power Spectrum"
   ]
  },
  {
   "cell_type": "code",
   "execution_count": 22,
   "metadata": {},
   "outputs": [
    {
     "data": {
      "text/plain": [
       "<xarray.DataArray 'concatenate-8ad37f633a9ebead9d8f3dbfe3cb3227' (time_segment: 10, freq_time: 100, z: 10, y: 10, x: 10)>\n",
       "dask.array<truediv, shape=(10, 100, 10, 10, 10), dtype=float64, chunksize=(1, 50, 10, 10, 10)>\n",
       "Coordinates:\n",
       "  * time_segment       (time_segment) int64 0 1 2 3 4 5 6 7 8 9\n",
       "  * freq_time          (freq_time) float64 -0.5 -0.49 -0.48 -0.47 -0.46 ...\n",
       "  * z                  (z) int64 0 1 2 3 4 5 6 7 8 9\n",
       "  * y                  (y) int64 0 1 2 3 4 5 6 7 8 9\n",
       "  * x                  (x) int64 0 1 2 3 4 5 6 7 8 9\n",
       "    freq_time_spacing  float64 0.01"
      ]
     },
     "execution_count": 22,
     "metadata": {},
     "output_type": "execute_result"
    }
   ],
   "source": [
    "ps = xrft.power_spectrum(da, dim=['time'], chunks_to_segments=True, seglen=100)\n",
    "ps"
   ]
  },
  {
   "cell_type": "markdown",
   "metadata": {},
   "source": [
    "Taking the mean over the segments gives the Barlett's estimate."
   ]
  },
  {
   "cell_type": "code",
   "execution_count": 23,
   "metadata": {},
   "outputs": [
    {
     "data": {
      "text/plain": [
       "<xarray.DataArray 'concatenate-8ad37f633a9ebead9d8f3dbfe3cb3227' (freq_time: 100, z: 10)>\n",
       "dask.array<mean_agg-aggregate, shape=(100, 10), dtype=float64, chunksize=(50, 10)>\n",
       "Coordinates:\n",
       "  * freq_time          (freq_time) float64 -0.5 -0.49 -0.48 -0.47 -0.46 ...\n",
       "  * z                  (z) int64 0 1 2 3 4 5 6 7 8 9\n",
       "    freq_time_spacing  float64 0.01"
      ]
     },
     "execution_count": 23,
     "metadata": {},
     "output_type": "execute_result"
    }
   ],
   "source": [
    "ps = ps.mean(['time_segment','y','x'])\n",
    "ps"
   ]
  },
  {
   "cell_type": "code",
   "execution_count": 27,
   "metadata": {},
   "outputs": [
    {
     "data": {
      "text/plain": [
       "(0.00065, 0.001)"
      ]
     },
     "execution_count": 27,
     "metadata": {},
     "output_type": "execute_result"
    },
    {
     "data": {
      "image/png": "[encoded data removed]",
      "text/plain": [
       "<matplotlib.figure.Figure at 0x11dca4c18>"
      ]
     },
     "metadata": {},
     "output_type": "display_data"
    }
   ],
   "source": [
    "fig, ax = plt.subplots()\n",
    "ax.loglog(ps.freq_time, ps[:,0])\n",
    "ax.set_ylim([6.5e-4,1e-3])"
   ]
  },
  {
   "cell_type": "code",
   "execution_count": null,
   "metadata": {},
   "outputs": [],
   "source": []
  }
 ],
 "metadata": {
  "kernelspec": {
   "display_name": "Python 3 (xrft)",
   "language": "python",
   "name": "xrft"
  },
  "language_info": {
   "codemirror_mode": {
    "name": "ipython",
    "version": 3
   },
   "file_extension": ".py",
   "mimetype": "text/x-python",
   "name": "python",
   "nbconvert_exporter": "python",
   "pygments_lexer": "ipython3",
   "version": "3.6.1"
  }
 },
 "nbformat": 4,
 "nbformat_minor": 2
}
