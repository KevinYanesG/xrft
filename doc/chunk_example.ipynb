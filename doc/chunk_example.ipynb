{
 "cells": [
  {
   "cell_type": "code",
   "execution_count": 1,
   "metadata": {},
   "outputs": [],
   "source": [
    "import numpy as np\n",
    "import numpy.testing as npt\n",
    "import xarray as xr\n",
    "import xrft\n",
    "import dask.array as dsar\n",
    "from matplotlib import colors\n",
    "import matplotlib.pyplot as plt\n",
    "%matplotlib inline"
   ]
  },
  {
   "cell_type": "markdown",
   "metadata": {},
   "source": [
    "# Parallelized Bartlett's Method\n",
    "For long data sets that have reached statistical equilibrium, it is useful to chunk the data, calculate the periodogram for each chunk and then take the average to reduce variance."
   ]
  },
  {
   "cell_type": "code",
   "execution_count": 2,
   "metadata": {},
   "outputs": [
    {
     "data": {
      "text/plain": [
       "<xarray.DataArray (time: 256, y: 128, x: 128)>\n",
       "array([[[ 0.32248 ,  0.964481, ...,  0.337249,  0.309895],\n",
       "        [ 0.715809,  0.17466 , ...,  0.116523,  0.654982],\n",
       "        ..., \n",
       "        [ 0.446256,  0.512525, ...,  0.077854,  0.765002],\n",
       "        [ 0.841564,  0.953249, ...,  0.658971,  0.686415]],\n",
       "\n",
       "       [[ 0.630837,  0.487165, ...,  0.554292,  0.515027],\n",
       "        [ 0.731938,  0.569171, ...,  0.267904,  0.513975],\n",
       "        ..., \n",
       "        [ 0.793469,  0.152394, ...,  0.533335,  0.360722],\n",
       "        [ 0.461538,  0.55428 , ...,  0.07681 ,  0.724895]],\n",
       "\n",
       "       ..., \n",
       "       [[ 0.826159,  0.86639 , ...,  0.202189,  0.144958],\n",
       "        [ 0.77873 ,  0.610459, ...,  0.394853,  0.571214],\n",
       "        ..., \n",
       "        [ 0.114775,  0.834477, ...,  0.079242,  0.083462],\n",
       "        [ 0.525866,  0.336172, ...,  0.215107,  0.553677]],\n",
       "\n",
       "       [[ 0.195668,  0.377061, ...,  0.323364,  0.095093],\n",
       "        [ 0.774246,  0.785038, ...,  0.041945,  0.249098],\n",
       "        ..., \n",
       "        [ 0.045152,  0.028871, ...,  0.645256,  0.992955],\n",
       "        [ 0.399614,  0.362683, ...,  0.053333,  0.657071]]])\n",
       "Dimensions without coordinates: time, y, x"
      ]
     },
     "execution_count": 2,
     "metadata": {},
     "output_type": "execute_result"
    }
   ],
   "source": [
    "n = int(2**8)\n",
    "da = xr.DataArray(np.random.rand(n,int(n/2),int(n/2)), dims=['time','y','x'])\n",
    "da"
   ]
  },
  {
   "cell_type": "markdown",
   "metadata": {},
   "source": [
    "## One dimension\n",
    "### Discrete Fourier Transform"
   ]
  },
  {
   "cell_type": "code",
   "execution_count": 3,
   "metadata": {},
   "outputs": [
    {
     "data": {
      "text/plain": [
       "<xarray.DataArray 'fftn-8e157978085dc92224e151f02fd4685d' (time_segment: 4, freq_time: 64, y: 128, x: 128)>\n",
       "array([[[[ 28.872620+0.j      , ...,  32.269598+0.j      ],\n",
       "         ..., \n",
       "         [ 26.845026+0.j      , ...,  35.410693+0.j      ]],\n",
       "\n",
       "        ..., \n",
       "        [[ -0.387772-2.919811j, ...,  -0.991089+0.028022j],\n",
       "         ..., \n",
       "         [ -1.093304+0.477671j, ...,  -1.472274+1.221146j]]],\n",
       "\n",
       "\n",
       "       ..., \n",
       "       [[[ 36.477557+0.j      , ...,  30.973395+0.j      ],\n",
       "         ..., \n",
       "         [ 32.874962+0.j      , ...,  25.600850+0.j      ]],\n",
       "\n",
       "        ..., \n",
       "        [[  1.305519+1.658458j, ...,   0.611649+0.71082j ],\n",
       "         ..., \n",
       "         [ -1.002679+0.927401j, ...,   3.710782+0.667929j]]]])\n",
       "Coordinates:\n",
       "  * time_segment       (time_segment) int64 0 1 2 3\n",
       "  * freq_time          (freq_time) float64 0.0 0.01562 0.03125 0.04688 ...\n",
       "  * y                  (y) int64 0 1 2 3 4 5 6 7 8 9 10 11 12 13 14 15 16 17 ...\n",
       "  * x                  (x) int64 0 1 2 3 4 5 6 7 8 9 10 11 12 13 14 15 16 17 ...\n",
       "    freq_time_spacing  float64 0.01562"
      ]
     },
     "execution_count": 3,
     "metadata": {},
     "output_type": "execute_result"
    }
   ],
   "source": [
    "daft = xrft.dft(da.chunk({'time':int(n/4)}), dim=['time'], shift=False , chunks_to_segments=True).compute()\n",
    "daft"
   ]
  },
  {
   "cell_type": "code",
   "execution_count": 4,
   "metadata": {},
   "outputs": [
    {
     "data": {
      "text/plain": [
       "<xarray.DataArray (time_segment: 4, freq_time: 64, y: 128, x: 128)>\n",
       "array([[[[ 28.872620+0.j      , ...,  32.269598+0.j      ],\n",
       "         ..., \n",
       "         [ 26.845026+0.j      , ...,  35.410693+0.j      ]],\n",
       "\n",
       "        ..., \n",
       "        [[ -0.387772-2.919811j, ...,  -0.991089+0.028022j],\n",
       "         ..., \n",
       "         [ -1.093304+0.477671j, ...,  -1.472274+1.221146j]]],\n",
       "\n",
       "\n",
       "       ..., \n",
       "       [[[ 36.477557+0.j      , ...,  30.973395+0.j      ],\n",
       "         ..., \n",
       "         [ 32.874962+0.j      , ...,  25.600850+0.j      ]],\n",
       "\n",
       "        ..., \n",
       "        [[  1.305519+1.658458j, ...,   0.611649+0.71082j ],\n",
       "         ..., \n",
       "         [ -1.002679+0.927401j, ...,   3.710782+0.667929j]]]])\n",
       "Dimensions without coordinates: time_segment, freq_time, y, x"
      ]
     },
     "execution_count": 4,
     "metadata": {},
     "output_type": "execute_result"
    }
   ],
   "source": [
    "data = da.chunk({'time':int(n/4)}).data\n",
    "data_rs = data.reshape((4,int(n/4),int(n/2),int(n/2)))\n",
    "da_rs = xr.DataArray(data_rs, dims=['time_segment','time','y','x'])\n",
    "da1 = xr.DataArray(dsar.fft.fftn(data_rs, axes=[1]).compute(),\n",
    "                   dims=['time_segment','freq_time','y','x'])\n",
    "da1"
   ]
  },
  {
   "cell_type": "markdown",
   "metadata": {},
   "source": [
    "We assert that our calculations give equal results."
   ]
  },
  {
   "cell_type": "code",
   "execution_count": 5,
   "metadata": {},
   "outputs": [],
   "source": [
    "npt.assert_almost_equal(da1, daft.values)"
   ]
  },
  {
   "cell_type": "markdown",
   "metadata": {},
   "source": [
    "### Power Spectrum"
   ]
  },
  {
   "cell_type": "code",
   "execution_count": 6,
   "metadata": {},
   "outputs": [
    {
     "data": {
      "text/plain": [
       "<xarray.DataArray 'concatenate-b83f1466f6b26db83335d84fe6303f5a' (time_segment: 4, freq_time: 64, y: 128, x: 128)>\n",
       "dask.array<truediv, shape=(4, 64, 128, 128), dtype=float64, chunksize=(1, 32, 128, 128)>\n",
       "Coordinates:\n",
       "  * time_segment       (time_segment) int64 0 1 2 3\n",
       "  * freq_time          (freq_time) float64 -0.5 -0.4844 -0.4688 -0.4531 ...\n",
       "  * y                  (y) int64 0 1 2 3 4 5 6 7 8 9 10 11 12 13 14 15 16 17 ...\n",
       "  * x                  (x) int64 0 1 2 3 4 5 6 7 8 9 10 11 12 13 14 15 16 17 ...\n",
       "    freq_time_spacing  float64 0.01562"
      ]
     },
     "execution_count": 6,
     "metadata": {},
     "output_type": "execute_result"
    }
   ],
   "source": [
    "ps = xrft.power_spectrum(da.chunk({'time':int(n/4)}), dim=['time'], chunks_to_segments=True)\n",
    "ps"
   ]
  },
  {
   "cell_type": "markdown",
   "metadata": {},
   "source": [
    "Taking the mean over the segments gives the Barlett's estimate."
   ]
  },
  {
   "cell_type": "code",
   "execution_count": 7,
   "metadata": {},
   "outputs": [
    {
     "data": {
      "text/plain": [
       "<xarray.DataArray 'concatenate-b83f1466f6b26db83335d84fe6303f5a' (freq_time: 64)>\n",
       "dask.array<mean_agg-aggregate, shape=(64,), dtype=float64, chunksize=(32,)>\n",
       "Coordinates:\n",
       "  * freq_time          (freq_time) float64 -0.5 -0.4844 -0.4688 -0.4531 ...\n",
       "    freq_time_spacing  float64 0.01562"
      ]
     },
     "execution_count": 7,
     "metadata": {},
     "output_type": "execute_result"
    }
   ],
   "source": [
    "ps = ps.mean(['time_segment','y','x'])\n",
    "ps"
   ]
  },
  {
   "cell_type": "code",
   "execution_count": 8,
   "metadata": {},
   "outputs": [
    {
     "data": {
      "text/plain": [
       "[<matplotlib.lines.Line2D at 0x1025b96d8>]"
      ]
     },
     "execution_count": 8,
     "metadata": {},
     "output_type": "execute_result"
    },
    {
     "data": {
      "image/png": "[encoded data removed]",
      "text/plain": [
       "<matplotlib.figure.Figure at 0x11a406da0>"
      ]
     },
     "metadata": {},
     "output_type": "display_data"
    }
   ],
   "source": [
    "fig, ax = plt.subplots()\n",
    "ax.semilogx(ps.freq_time[int(n/8)+1:], ps[int(n/8)+1:])"
   ]
  },
  {
   "cell_type": "markdown",
   "metadata": {},
   "source": [
    "## Two dimension\n",
    "### Discrete Fourier Transform"
   ]
  },
  {
   "cell_type": "code",
   "execution_count": 9,
   "metadata": {},
   "outputs": [
    {
     "data": {
      "text/plain": [
       "<xarray.DataArray 'fftn-1de977b1950af9d894dab2969332568d' (time: 256, y_segment: 4, freq_y: 32, x_segment: 4, freq_x: 32)>\n",
       "array([[[[[  5.082760e+02 +0.j      , ...,  -2.039390e+00 +0.448736j],\n",
       "          ..., \n",
       "          [  5.073268e+02 +0.j      , ...,   8.341363e+00 -8.899398j]],\n",
       "\n",
       "         ..., \n",
       "         [[  3.320951e+00 +6.806884j, ...,  -4.215706e+00 -4.787452j],\n",
       "          ..., \n",
       "          [  6.163008e+00 +7.316022j, ...,  -1.243607e-01 +4.66932j ]]],\n",
       "\n",
       "\n",
       "        ..., \n",
       "        [[[  5.283770e+02 +0.j      , ...,   6.396905e+00 +6.778045j],\n",
       "          ..., \n",
       "          [  5.164922e+02 +0.j      , ...,   1.031942e+00 +4.369361j]],\n",
       "\n",
       "         ..., \n",
       "         [[  5.266626e+00 +8.048204j, ...,  -4.763754e+00 -7.207996j],\n",
       "          ..., \n",
       "          [ -5.780881e+00 +0.333961j, ...,  -2.730868e+00 -3.458722j]]]],\n",
       "\n",
       "\n",
       "\n",
       "       ..., \n",
       "       [[[[  5.077274e+02 +0.j      , ...,  -1.047458e+01+12.159211j],\n",
       "          ..., \n",
       "          [  5.048809e+02 +0.j      , ...,   4.982056e+00 -6.819402j]],\n",
       "\n",
       "         ..., \n",
       "         [[ -4.411699e-01 -9.170704j, ...,  -3.946252e+00 -4.535332j],\n",
       "          ..., \n",
       "          [  5.839536e+00 -9.045908j, ...,  -1.450301e+01 +6.212377j]]],\n",
       "\n",
       "\n",
       "        ..., \n",
       "        [[[  5.054242e+02 +0.j      , ...,   9.387171e+00 +0.708197j],\n",
       "          ..., \n",
       "          [  5.206763e+02 +0.j      , ...,  -4.445430e+00 -3.475113j]],\n",
       "\n",
       "         ..., \n",
       "         [[  3.807392e+00 -1.974941j, ...,  -1.595920e+00 -0.262864j],\n",
       "          ..., \n",
       "          [  2.311431e+00 +9.506857j, ...,   1.791021e+00 -0.840974j]]]]])\n",
       "Coordinates:\n",
       "  * time            (time) int64 0 1 2 3 4 5 6 7 8 9 10 11 12 13 14 15 16 17 ...\n",
       "  * y_segment       (y_segment) int64 0 1 2 3\n",
       "  * freq_y          (freq_y) float64 0.0 0.03125 0.0625 0.09375 0.125 0.1562 ...\n",
       "  * x_segment       (x_segment) int64 0 1 2 3\n",
       "  * freq_x          (freq_x) float64 0.0 0.03125 0.0625 0.09375 0.125 0.1562 ...\n",
       "    freq_y_spacing  float64 0.03125\n",
       "    freq_x_spacing  float64 0.03125"
      ]
     },
     "execution_count": 9,
     "metadata": {},
     "output_type": "execute_result"
    }
   ],
   "source": [
    "daft = xrft.dft(da.chunk({'y':32,'x':32}), dim=['y','x'], shift=False , chunks_to_segments=True).compute()\n",
    "daft"
   ]
  },
  {
   "cell_type": "code",
   "execution_count": 10,
   "metadata": {},
   "outputs": [
    {
     "data": {
      "text/plain": [
       "<xarray.DataArray (time: 256, y_segment: 4, freq_y: 32, x_segment: 4, freq_x: 32)>\n",
       "array([[[[[  5.082760e+02 +0.j      , ...,  -2.039390e+00 +0.448736j],\n",
       "          ..., \n",
       "          [  5.073268e+02 +0.j      , ...,   8.341363e+00 -8.899398j]],\n",
       "\n",
       "         ..., \n",
       "         [[  3.320951e+00 +6.806884j, ...,  -4.215706e+00 -4.787452j],\n",
       "          ..., \n",
       "          [  6.163008e+00 +7.316022j, ...,  -1.243607e-01 +4.66932j ]]],\n",
       "\n",
       "\n",
       "        ..., \n",
       "        [[[  5.283770e+02 +0.j      , ...,   6.396905e+00 +6.778045j],\n",
       "          ..., \n",
       "          [  5.164922e+02 +0.j      , ...,   1.031942e+00 +4.369361j]],\n",
       "\n",
       "         ..., \n",
       "         [[  5.266626e+00 +8.048204j, ...,  -4.763754e+00 -7.207996j],\n",
       "          ..., \n",
       "          [ -5.780881e+00 +0.333961j, ...,  -2.730868e+00 -3.458722j]]]],\n",
       "\n",
       "\n",
       "\n",
       "       ..., \n",
       "       [[[[  5.077274e+02 +0.j      , ...,  -1.047458e+01+12.159211j],\n",
       "          ..., \n",
       "          [  5.048809e+02 +0.j      , ...,   4.982056e+00 -6.819402j]],\n",
       "\n",
       "         ..., \n",
       "         [[ -4.411699e-01 -9.170704j, ...,  -3.946252e+00 -4.535332j],\n",
       "          ..., \n",
       "          [  5.839536e+00 -9.045908j, ...,  -1.450301e+01 +6.212377j]]],\n",
       "\n",
       "\n",
       "        ..., \n",
       "        [[[  5.054242e+02 +0.j      , ...,   9.387171e+00 +0.708197j],\n",
       "          ..., \n",
       "          [  5.206763e+02 +0.j      , ...,  -4.445430e+00 -3.475113j]],\n",
       "\n",
       "         ..., \n",
       "         [[  3.807392e+00 -1.974941j, ...,  -1.595920e+00 -0.262864j],\n",
       "          ..., \n",
       "          [  2.311431e+00 +9.506857j, ...,   1.791021e+00 -0.840974j]]]]])\n",
       "Dimensions without coordinates: time, y_segment, freq_y, x_segment, freq_x"
      ]
     },
     "execution_count": 10,
     "metadata": {},
     "output_type": "execute_result"
    }
   ],
   "source": [
    "data = da.chunk({'y':32,'x':32}).data\n",
    "data_rs = data.reshape((256,4,32,4,32))\n",
    "da_rs = xr.DataArray(data_rs, dims=['time','y_segment','y','x_segment','x'])\n",
    "da2 = xr.DataArray(dsar.fft.fftn(data_rs, axes=[2,4]).compute(),\n",
    "                   dims=['time','y_segment','freq_y','x_segment','freq_x'])\n",
    "da2"
   ]
  },
  {
   "cell_type": "markdown",
   "metadata": {},
   "source": [
    "We assert that our calculations give equal results."
   ]
  },
  {
   "cell_type": "code",
   "execution_count": 11,
   "metadata": {},
   "outputs": [],
   "source": [
    "npt.assert_almost_equal(da2, daft.values)"
   ]
  },
  {
   "cell_type": "markdown",
   "metadata": {},
   "source": [
    "### Power Spectrum"
   ]
  },
  {
   "cell_type": "code",
   "execution_count": 12,
   "metadata": {},
   "outputs": [
    {
     "ename": "ValueError",
     "evalue": "Data has too many dimensions and/or too many axes to detrend over.",
     "output_type": "error",
     "traceback": [
      "\u001b[0;31m---------------------------------------------------------------------------\u001b[0m",
      "\u001b[0;31mValueError\u001b[0m                                Traceback (most recent call last)",
      "\u001b[0;32m<ipython-input-12-ca804be58508>\u001b[0m in \u001b[0;36m<module>\u001b[0;34m()\u001b[0m\n\u001b[0;32m----> 1\u001b[0;31m \u001b[0mps\u001b[0m \u001b[0;34m=\u001b[0m \u001b[0mxrft\u001b[0m\u001b[0;34m.\u001b[0m\u001b[0mpower_spectrum\u001b[0m\u001b[0;34m(\u001b[0m\u001b[0mda\u001b[0m\u001b[0;34m.\u001b[0m\u001b[0mchunk\u001b[0m\u001b[0;34m(\u001b[0m\u001b[0;34m{\u001b[0m\u001b[0;34m'time'\u001b[0m\u001b[0;34m:\u001b[0m\u001b[0;36m1\u001b[0m\u001b[0;34m,\u001b[0m\u001b[0;34m'y'\u001b[0m\u001b[0;34m:\u001b[0m\u001b[0;36m64\u001b[0m\u001b[0;34m,\u001b[0m\u001b[0;34m'x'\u001b[0m\u001b[0;34m:\u001b[0m\u001b[0;36m64\u001b[0m\u001b[0;34m}\u001b[0m\u001b[0;34m)\u001b[0m\u001b[0;34m,\u001b[0m \u001b[0mdim\u001b[0m\u001b[0;34m=\u001b[0m\u001b[0;34m[\u001b[0m\u001b[0;34m'y'\u001b[0m\u001b[0;34m,\u001b[0m\u001b[0;34m'x'\u001b[0m\u001b[0;34m]\u001b[0m\u001b[0;34m,\u001b[0m \u001b[0mchunks_to_segments\u001b[0m\u001b[0;34m=\u001b[0m\u001b[0;32mTrue\u001b[0m\u001b[0;34m,\u001b[0m \u001b[0mdetrend\u001b[0m\u001b[0;34m=\u001b[0m\u001b[0;34m'linear'\u001b[0m\u001b[0;34m)\u001b[0m\u001b[0;34m\u001b[0m\u001b[0m\n\u001b[0m\u001b[1;32m      2\u001b[0m \u001b[0mps\u001b[0m \u001b[0;34m=\u001b[0m \u001b[0mps\u001b[0m\u001b[0;34m.\u001b[0m\u001b[0mmean\u001b[0m\u001b[0;34m(\u001b[0m\u001b[0;34m[\u001b[0m\u001b[0;34m'time'\u001b[0m\u001b[0;34m,\u001b[0m\u001b[0;34m'y_segment'\u001b[0m\u001b[0;34m,\u001b[0m\u001b[0;34m'x_segment'\u001b[0m\u001b[0;34m]\u001b[0m\u001b[0;34m)\u001b[0m\u001b[0;34m\u001b[0m\u001b[0m\n\u001b[1;32m      3\u001b[0m \u001b[0mps\u001b[0m\u001b[0;34m\u001b[0m\u001b[0m\n",
      "\u001b[0;32m/Users/uchidatakaya/Documents/Python/xrft/xrft/xrft.py\u001b[0m in \u001b[0;36mpower_spectrum\u001b[0;34m(da, spacing_tol, dim, shift, detrend, density, window, chunks_to_segments)\u001b[0m\n\u001b[1;32m    370\u001b[0m         daft = dft(da, spacing_tol,\n\u001b[1;32m    371\u001b[0m                   \u001b[0mdim\u001b[0m\u001b[0;34m=\u001b[0m\u001b[0mdim\u001b[0m\u001b[0;34m,\u001b[0m \u001b[0mshift\u001b[0m\u001b[0;34m=\u001b[0m\u001b[0mshift\u001b[0m\u001b[0;34m,\u001b[0m \u001b[0mdetrend\u001b[0m\u001b[0;34m=\u001b[0m\u001b[0mdetrend\u001b[0m\u001b[0;34m,\u001b[0m \u001b[0mwindow\u001b[0m\u001b[0;34m=\u001b[0m\u001b[0mwindow\u001b[0m\u001b[0;34m,\u001b[0m\u001b[0;34m\u001b[0m\u001b[0m\n\u001b[0;32m--> 372\u001b[0;31m                   chunks_to_segments=chunks_to_segments)\n\u001b[0m\u001b[1;32m    373\u001b[0m     \u001b[0;32melse\u001b[0m\u001b[0;34m:\u001b[0m\u001b[0;34m\u001b[0m\u001b[0m\n\u001b[1;32m    374\u001b[0m         daft = dft(da, spacing_tol,\n",
      "\u001b[0;32m/Users/uchidatakaya/Documents/Python/xrft/xrft/xrft.py\u001b[0m in \u001b[0;36mdft\u001b[0;34m(da, spacing_tol, dim, shift, detrend, window, chunks_to_segments)\u001b[0m\n\u001b[1;32m    272\u001b[0m         \u001b[0mda\u001b[0m \u001b[0;34m=\u001b[0m \u001b[0mda\u001b[0m \u001b[0;34m-\u001b[0m \u001b[0mda\u001b[0m\u001b[0;34m.\u001b[0m\u001b[0mmean\u001b[0m\u001b[0;34m(\u001b[0m\u001b[0mdim\u001b[0m\u001b[0;34m=\u001b[0m\u001b[0mdim\u001b[0m\u001b[0;34m)\u001b[0m\u001b[0;34m\u001b[0m\u001b[0m\n\u001b[1;32m    273\u001b[0m     \u001b[0;32melif\u001b[0m \u001b[0mdetrend\u001b[0m \u001b[0;34m==\u001b[0m \u001b[0;34m'linear'\u001b[0m\u001b[0;34m:\u001b[0m\u001b[0;34m\u001b[0m\u001b[0m\n\u001b[0;32m--> 274\u001b[0;31m         \u001b[0mda\u001b[0m \u001b[0;34m=\u001b[0m \u001b[0m_apply_detrend\u001b[0m\u001b[0;34m(\u001b[0m\u001b[0mda\u001b[0m\u001b[0;34m,\u001b[0m \u001b[0maxis_num\u001b[0m\u001b[0;34m)\u001b[0m\u001b[0;34m\u001b[0m\u001b[0m\n\u001b[0m\u001b[1;32m    275\u001b[0m         \u001b[0;31m# if hasattr(da.data, 'dask'):\u001b[0m\u001b[0;34m\u001b[0m\u001b[0;34m\u001b[0m\u001b[0m\n\u001b[1;32m    276\u001b[0m         \u001b[0;31m#     func = _detrend_wrap(_detrend)\u001b[0m\u001b[0;34m\u001b[0m\u001b[0;34m\u001b[0m\u001b[0m\n",
      "\u001b[0;32m/Users/uchidatakaya/Documents/Python/xrft/xrft/xrft.py\u001b[0m in \u001b[0;36m_apply_detrend\u001b[0;34m(da, axis_num)\u001b[0m\n\u001b[1;32m    147\u001b[0m     \u001b[0;32mif\u001b[0m \u001b[0mda\u001b[0m\u001b[0;34m.\u001b[0m\u001b[0mchunks\u001b[0m\u001b[0;34m:\u001b[0m\u001b[0;34m\u001b[0m\u001b[0m\n\u001b[1;32m    148\u001b[0m         \u001b[0mfunc\u001b[0m \u001b[0;34m=\u001b[0m \u001b[0mdetrend_wrap\u001b[0m\u001b[0;34m(\u001b[0m\u001b[0mdetrendn\u001b[0m\u001b[0;34m)\u001b[0m\u001b[0;34m\u001b[0m\u001b[0m\n\u001b[0;32m--> 149\u001b[0;31m         da = xr.DataArray(func(da.data, axes=axis_num),\n\u001b[0m\u001b[1;32m    150\u001b[0m                         dims=da.dims, coords=da.coords)\n\u001b[1;32m    151\u001b[0m     \u001b[0;32melse\u001b[0m\u001b[0;34m:\u001b[0m\u001b[0;34m\u001b[0m\u001b[0m\n",
      "\u001b[0;32m/Users/uchidatakaya/Documents/Python/xrft/xrft/xrft.py\u001b[0m in \u001b[0;36mfunc\u001b[0;34m(a, axes)\u001b[0m\n\u001b[1;32m    114\u001b[0m     \u001b[0;32mdef\u001b[0m \u001b[0mfunc\u001b[0m\u001b[0;34m(\u001b[0m\u001b[0ma\u001b[0m\u001b[0;34m,\u001b[0m \u001b[0maxes\u001b[0m\u001b[0;34m=\u001b[0m\u001b[0;32mNone\u001b[0m\u001b[0;34m)\u001b[0m\u001b[0;34m:\u001b[0m\u001b[0;34m\u001b[0m\u001b[0m\n\u001b[1;32m    115\u001b[0m         \u001b[0;32mif\u001b[0m \u001b[0ma\u001b[0m\u001b[0;34m.\u001b[0m\u001b[0mndim\u001b[0m \u001b[0;34m>\u001b[0m \u001b[0;36m4\u001b[0m \u001b[0;32mor\u001b[0m \u001b[0mlen\u001b[0m\u001b[0;34m(\u001b[0m\u001b[0maxes\u001b[0m\u001b[0;34m)\u001b[0m \u001b[0;34m>\u001b[0m \u001b[0;36m3\u001b[0m\u001b[0;34m:\u001b[0m\u001b[0;34m\u001b[0m\u001b[0m\n\u001b[0;32m--> 116\u001b[0;31m             raise ValueError(\"Data has too many dimensions \"\n\u001b[0m\u001b[1;32m    117\u001b[0m                             \"and/or too many axes to detrend over.\")\n\u001b[1;32m    118\u001b[0m         \u001b[0;32mif\u001b[0m \u001b[0maxes\u001b[0m \u001b[0;32mis\u001b[0m \u001b[0;32mNone\u001b[0m\u001b[0;34m:\u001b[0m\u001b[0;34m\u001b[0m\u001b[0m\n",
      "\u001b[0;31mValueError\u001b[0m: Data has too many dimensions and/or too many axes to detrend over."
     ]
    }
   ],
   "source": [
    "ps = xrft.power_spectrum(da.chunk({'time':1,'y':64,'x':64}), dim=['y','x'], chunks_to_segments=True, detrend='linear')\n",
    "ps = ps.mean(['time','y_segment','x_segment'])\n",
    "ps"
   ]
  },
  {
   "cell_type": "code",
   "execution_count": 64,
   "metadata": {},
   "outputs": [
    {
     "data": {
      "text/plain": [
       "<matplotlib.collections.QuadMesh at 0x112d812e8>"
      ]
     },
     "execution_count": 64,
     "metadata": {},
     "output_type": "execute_result"
    },
    {
     "data": {
      "image/png": "[encoded data removed]",
      "text/plain": [
       "<matplotlib.figure.Figure at 0x1124b7a90>"
      ]
     },
     "metadata": {},
     "output_type": "display_data"
    }
   ],
   "source": [
    "fig, ax = plt.subplots()\n",
    "ps.plot(ax=ax, norm=colors.LogNorm(), vmin=4.5e-3, vmax=5.5e-3)"
   ]
  },
  {
   "cell_type": "code",
   "execution_count": null,
   "metadata": {},
   "outputs": [],
   "source": []
  }
 ],
 "metadata": {
  "kernelspec": {
   "display_name": "Python 3 (xrft)",
   "language": "python",
   "name": "xrft"
  },
  "language_info": {
   "codemirror_mode": {
    "name": "ipython",
    "version": 3
   },
   "file_extension": ".py",
   "mimetype": "text/x-python",
   "name": "python",
   "nbconvert_exporter": "python",
   "pygments_lexer": "ipython3",
   "version": "3.6.1"
  }
 },
 "nbformat": 4,
 "nbformat_minor": 2
}
