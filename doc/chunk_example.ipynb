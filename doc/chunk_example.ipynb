{
 "cells": [
  {
   "cell_type": "code",
   "execution_count": 1,
   "metadata": {},
   "outputs": [],
   "source": [
    "import numpy as np\n",
    "import numpy.testing as npt\n",
    "import xarray as xr\n",
    "import xrft\n",
    "import dask.array as dsar\n",
    "from matplotlib import colors\n",
    "import matplotlib.pyplot as plt\n",
    "%matplotlib inline"
   ]
  },
  {
   "cell_type": "markdown",
   "metadata": {},
   "source": [
    "# Parallelized Bartlett's Method\n",
    "For long data sets that have reached statistical equilibrium, it is useful to chunk the data, calculate the periodogram for each chunk and then take the average to reduce variance."
   ]
  },
  {
   "cell_type": "code",
   "execution_count": 2,
   "metadata": {},
   "outputs": [
    {
     "data": {
      "text/plain": [
       "<xarray.DataArray (time: 256, y: 128, x: 128)>\n",
       "array([[[ 0.493341,  0.28303 , ...,  0.434256,  0.616031],\n",
       "        [ 0.777314,  0.629644, ...,  0.152931,  0.445424],\n",
       "        ..., \n",
       "        [ 0.562456,  0.022227, ...,  0.88538 ,  0.054687],\n",
       "        [ 0.381456,  0.908454, ...,  0.843443,  0.706326]],\n",
       "\n",
       "       [[ 0.469143,  0.241104, ...,  0.249369,  0.830898],\n",
       "        [ 0.283305,  0.438634, ...,  0.893666,  0.242556],\n",
       "        ..., \n",
       "        [ 0.897823,  0.187038, ...,  0.977466,  0.270899],\n",
       "        [ 0.252733,  0.425873, ...,  0.228847,  0.954393]],\n",
       "\n",
       "       ..., \n",
       "       [[ 0.936424,  0.793693, ...,  0.406293,  0.272336],\n",
       "        [ 0.917752,  0.83908 , ...,  0.954489,  0.151129],\n",
       "        ..., \n",
       "        [ 0.081756,  0.016332, ...,  0.524886,  0.87095 ],\n",
       "        [ 0.677224,  0.41488 , ...,  0.12199 ,  0.689685]],\n",
       "\n",
       "       [[ 0.193302,  0.113419, ...,  0.083486,  0.784332],\n",
       "        [ 0.695728,  0.376776, ...,  0.278004,  0.026373],\n",
       "        ..., \n",
       "        [ 0.677775,  0.255296, ...,  0.112851,  0.46325 ],\n",
       "        [ 0.598086,  0.529324, ...,  0.267431,  0.65419 ]]])\n",
       "Dimensions without coordinates: time, y, x"
      ]
     },
     "execution_count": 2,
     "metadata": {},
     "output_type": "execute_result"
    }
   ],
   "source": [
    "n = int(2**8)\n",
    "da = xr.DataArray(np.random.rand(n,int(n/2),int(n/2)), dims=['time','y','x'])\n",
    "da"
   ]
  },
  {
   "cell_type": "markdown",
   "metadata": {},
   "source": [
    "## One dimension\n",
    "### Discrete Fourier Transform"
   ]
  },
  {
   "cell_type": "code",
   "execution_count": 3,
   "metadata": {},
   "outputs": [
    {
     "data": {
      "text/plain": [
       "<xarray.DataArray 'fftn-917988d0ce7d7da01b5f7a3cf2bb9a26' (time_segment: 4, freq_time: 64, y: 128, x: 128)>\n",
       "array([[[[ 30.737014+0.j      , ...,  31.659135+0.j      ],\n",
       "         ..., \n",
       "         [ 31.308938+0.j      , ...,  31.768846+0.j      ]],\n",
       "\n",
       "        ..., \n",
       "        [[  1.928097-0.118076j, ...,   0.732440+2.07656j ],\n",
       "         ..., \n",
       "         [  0.225814+1.256083j, ...,   0.244113-1.276807j]]],\n",
       "\n",
       "\n",
       "       ..., \n",
       "       [[[ 37.777908+0.j      , ...,  30.996848+0.j      ],\n",
       "         ..., \n",
       "         [ 28.650088+0.j      , ...,  35.362874+0.j      ]],\n",
       "\n",
       "        ..., \n",
       "        [[ -1.780642+0.477772j, ...,   2.575858+1.71943j ],\n",
       "         ..., \n",
       "         [  3.149759-2.664934j, ...,   1.872009-2.977565j]]]])\n",
       "Coordinates:\n",
       "  * time_segment       (time_segment) int64 0 1 2 3\n",
       "  * freq_time          (freq_time) float64 0.0 0.01562 0.03125 0.04688 ...\n",
       "  * y                  (y) int64 0 1 2 3 4 5 6 7 8 9 10 11 12 13 14 15 16 17 ...\n",
       "  * x                  (x) int64 0 1 2 3 4 5 6 7 8 9 10 11 12 13 14 15 16 17 ...\n",
       "    freq_time_spacing  float64 0.01562"
      ]
     },
     "execution_count": 3,
     "metadata": {},
     "output_type": "execute_result"
    }
   ],
   "source": [
    "daft = xrft.dft(da.chunk({'time':int(n/4)}), dim=['time'], shift=False , chunks_to_segments=True).compute()\n",
    "daft"
   ]
  },
  {
   "cell_type": "code",
   "execution_count": 4,
   "metadata": {},
   "outputs": [
    {
     "data": {
      "text/plain": [
       "<xarray.DataArray (time_segment: 4, freq_time: 64, y: 128, x: 128)>\n",
       "array([[[[ 30.737014+0.j      , ...,  31.659135+0.j      ],\n",
       "         ..., \n",
       "         [ 31.308938+0.j      , ...,  31.768846+0.j      ]],\n",
       "\n",
       "        ..., \n",
       "        [[  1.928097-0.118076j, ...,   0.732440+2.07656j ],\n",
       "         ..., \n",
       "         [  0.225814+1.256083j, ...,   0.244113-1.276807j]]],\n",
       "\n",
       "\n",
       "       ..., \n",
       "       [[[ 37.777908+0.j      , ...,  30.996848+0.j      ],\n",
       "         ..., \n",
       "         [ 28.650088+0.j      , ...,  35.362874+0.j      ]],\n",
       "\n",
       "        ..., \n",
       "        [[ -1.780642+0.477772j, ...,   2.575858+1.71943j ],\n",
       "         ..., \n",
       "         [  3.149759-2.664934j, ...,   1.872009-2.977565j]]]])\n",
       "Dimensions without coordinates: time_segment, freq_time, y, x"
      ]
     },
     "execution_count": 4,
     "metadata": {},
     "output_type": "execute_result"
    }
   ],
   "source": [
    "data = da.chunk({'time':int(n/4)}).data\n",
    "data_rs = data.reshape((4,int(n/4),int(n/2),int(n/2)))\n",
    "da_rs = xr.DataArray(data_rs, dims=['time_segment','time','y','x'])\n",
    "da1 = xr.DataArray(dsar.fft.fftn(data_rs, axes=[1]).compute(),\n",
    "                   dims=['time_segment','freq_time','y','x'])\n",
    "da1"
   ]
  },
  {
   "cell_type": "markdown",
   "metadata": {},
   "source": [
    "We assert that our calculations give equal results."
   ]
  },
  {
   "cell_type": "code",
   "execution_count": 5,
   "metadata": {},
   "outputs": [],
   "source": [
    "npt.assert_almost_equal(da1, daft.values)"
   ]
  },
  {
   "cell_type": "markdown",
   "metadata": {},
   "source": [
    "### Power Spectrum"
   ]
  },
  {
   "cell_type": "code",
   "execution_count": 6,
   "metadata": {},
   "outputs": [
    {
     "data": {
      "text/plain": [
       "<xarray.DataArray 'concatenate-183433100cd82e429170a4fe2f9c4cbb' (time_segment: 4, freq_time: 64, y: 128, x: 128)>\n",
       "dask.array<truediv, shape=(4, 64, 128, 128), dtype=float64, chunksize=(1, 32, 128, 128)>\n",
       "Coordinates:\n",
       "  * time_segment       (time_segment) int64 0 1 2 3\n",
       "  * freq_time          (freq_time) float64 -0.5 -0.4844 -0.4688 -0.4531 ...\n",
       "  * y                  (y) int64 0 1 2 3 4 5 6 7 8 9 10 11 12 13 14 15 16 17 ...\n",
       "  * x                  (x) int64 0 1 2 3 4 5 6 7 8 9 10 11 12 13 14 15 16 17 ...\n",
       "    freq_time_spacing  float64 0.01562"
      ]
     },
     "execution_count": 6,
     "metadata": {},
     "output_type": "execute_result"
    }
   ],
   "source": [
    "ps = xrft.power_spectrum(da.chunk({'time':int(n/4)}), dim=['time'], chunks_to_segments=True)\n",
    "ps"
   ]
  },
  {
   "cell_type": "markdown",
   "metadata": {},
   "source": [
    "Taking the mean over the segments gives the Barlett's estimate."
   ]
  },
  {
   "cell_type": "code",
   "execution_count": 7,
   "metadata": {},
   "outputs": [
    {
     "data": {
      "text/plain": [
       "<xarray.DataArray 'concatenate-183433100cd82e429170a4fe2f9c4cbb' (freq_time: 64)>\n",
       "dask.array<mean_agg-aggregate, shape=(64,), dtype=float64, chunksize=(32,)>\n",
       "Coordinates:\n",
       "  * freq_time          (freq_time) float64 -0.5 -0.4844 -0.4688 -0.4531 ...\n",
       "    freq_time_spacing  float64 0.01562"
      ]
     },
     "execution_count": 7,
     "metadata": {},
     "output_type": "execute_result"
    }
   ],
   "source": [
    "ps = ps.mean(['time_segment','y','x'])\n",
    "ps"
   ]
  },
  {
   "cell_type": "code",
   "execution_count": 8,
   "metadata": {},
   "outputs": [
    {
     "data": {
      "text/plain": [
       "[<matplotlib.lines.Line2D at 0x10ebc9518>]"
      ]
     },
     "execution_count": 8,
     "metadata": {},
     "output_type": "execute_result"
    },
    {
     "data": {
      "image/png": "[encoded data removed]",
      "text/plain": [
       "<matplotlib.figure.Figure at 0x126a18cf8>"
      ]
     },
     "metadata": {},
     "output_type": "display_data"
    }
   ],
   "source": [
    "fig, ax = plt.subplots()\n",
    "ax.semilogx(ps.freq_time[int(n/8)+1:], ps[int(n/8)+1:])"
   ]
  },
  {
   "cell_type": "markdown",
   "metadata": {},
   "source": [
    "## Two dimension\n",
    "### Discrete Fourier Transform"
   ]
  },
  {
   "cell_type": "code",
   "execution_count": 9,
   "metadata": {},
   "outputs": [
    {
     "data": {
      "text/plain": [
       "<xarray.DataArray 'fftn-8077935acd6b48b40d6593c688c326b2' (time: 256, y_segment: 4, freq_y: 32, x_segment: 4, freq_x: 32)>\n",
       "array([[[[[ 505.090962 +0.j      , ...,    3.673241 +2.033024j],\n",
       "          ..., \n",
       "          [ 506.979486 +0.j      , ...,    2.672219 +8.645102j]],\n",
       "\n",
       "         ..., \n",
       "         [[  -1.746757 -1.347122j, ...,   -2.183099+17.472835j],\n",
       "          ..., \n",
       "          [   3.450049 +3.832201j, ...,   -4.072164 -7.279733j]]],\n",
       "\n",
       "\n",
       "        ..., \n",
       "        [[[ 504.971751 +0.j      , ...,   -6.610465-12.385931j],\n",
       "          ..., \n",
       "          [ 512.756185 +0.j      , ...,   -4.344255 -8.458134j]],\n",
       "\n",
       "         ..., \n",
       "         [[  -7.979198 -7.454325j, ...,   -2.962019 +6.43059j ],\n",
       "          ..., \n",
       "          [   4.024805 +3.72519j , ...,   -8.242673 -8.259182j]]]],\n",
       "\n",
       "\n",
       "\n",
       "       ..., \n",
       "       [[[[ 518.573138 +0.j      , ...,    0.573928-10.006888j],\n",
       "          ..., \n",
       "          [ 520.423164 +0.j      , ...,   -1.110088 +0.141936j]],\n",
       "\n",
       "         ..., \n",
       "         [[   2.043005 -3.116515j, ...,    8.697924 -5.116488j],\n",
       "          ..., \n",
       "          [   3.702009 -7.202762j, ...,  -12.007770 +3.514272j]]],\n",
       "\n",
       "\n",
       "        ..., \n",
       "        [[[ 523.615806 +0.j      , ...,   -9.301065 +4.935474j],\n",
       "          ..., \n",
       "          [ 521.535950 +0.j      , ...,    6.826755 +1.688166j]],\n",
       "\n",
       "         ..., \n",
       "         [[   2.157400-14.676636j, ...,   -1.865237-11.408717j],\n",
       "          ..., \n",
       "          [   0.651302 +0.531716j, ...,    5.861882 +5.968681j]]]]])\n",
       "Coordinates:\n",
       "  * time            (time) int64 0 1 2 3 4 5 6 7 8 9 10 11 12 13 14 15 16 17 ...\n",
       "  * y_segment       (y_segment) int64 0 1 2 3\n",
       "  * freq_y          (freq_y) float64 0.0 0.03125 0.0625 0.09375 0.125 0.1562 ...\n",
       "  * x_segment       (x_segment) int64 0 1 2 3\n",
       "  * freq_x          (freq_x) float64 0.0 0.03125 0.0625 0.09375 0.125 0.1562 ...\n",
       "    freq_y_spacing  float64 0.03125\n",
       "    freq_x_spacing  float64 0.03125"
      ]
     },
     "execution_count": 9,
     "metadata": {},
     "output_type": "execute_result"
    }
   ],
   "source": [
    "daft = xrft.dft(da.chunk({'y':32,'x':32}), dim=['y','x'], shift=False , chunks_to_segments=True).compute()\n",
    "daft"
   ]
  },
  {
   "cell_type": "code",
   "execution_count": 10,
   "metadata": {},
   "outputs": [
    {
     "data": {
      "text/plain": [
       "<xarray.DataArray (time: 256, y_segment: 4, freq_y: 32, x_segment: 4, freq_x: 32)>\n",
       "array([[[[[ 505.090962 +0.j      , ...,    3.673241 +2.033024j],\n",
       "          ..., \n",
       "          [ 506.979486 +0.j      , ...,    2.672219 +8.645102j]],\n",
       "\n",
       "         ..., \n",
       "         [[  -1.746757 -1.347122j, ...,   -2.183099+17.472835j],\n",
       "          ..., \n",
       "          [   3.450049 +3.832201j, ...,   -4.072164 -7.279733j]]],\n",
       "\n",
       "\n",
       "        ..., \n",
       "        [[[ 504.971751 +0.j      , ...,   -6.610465-12.385931j],\n",
       "          ..., \n",
       "          [ 512.756185 +0.j      , ...,   -4.344255 -8.458134j]],\n",
       "\n",
       "         ..., \n",
       "         [[  -7.979198 -7.454325j, ...,   -2.962019 +6.43059j ],\n",
       "          ..., \n",
       "          [   4.024805 +3.72519j , ...,   -8.242673 -8.259182j]]]],\n",
       "\n",
       "\n",
       "\n",
       "       ..., \n",
       "       [[[[ 518.573138 +0.j      , ...,    0.573928-10.006888j],\n",
       "          ..., \n",
       "          [ 520.423164 +0.j      , ...,   -1.110088 +0.141936j]],\n",
       "\n",
       "         ..., \n",
       "         [[   2.043005 -3.116515j, ...,    8.697924 -5.116488j],\n",
       "          ..., \n",
       "          [   3.702009 -7.202762j, ...,  -12.007770 +3.514272j]]],\n",
       "\n",
       "\n",
       "        ..., \n",
       "        [[[ 523.615806 +0.j      , ...,   -9.301065 +4.935474j],\n",
       "          ..., \n",
       "          [ 521.535950 +0.j      , ...,    6.826755 +1.688166j]],\n",
       "\n",
       "         ..., \n",
       "         [[   2.157400-14.676636j, ...,   -1.865237-11.408717j],\n",
       "          ..., \n",
       "          [   0.651302 +0.531716j, ...,    5.861882 +5.968681j]]]]])\n",
       "Dimensions without coordinates: time, y_segment, freq_y, x_segment, freq_x"
      ]
     },
     "execution_count": 10,
     "metadata": {},
     "output_type": "execute_result"
    }
   ],
   "source": [
    "data = da.chunk({'y':32,'x':32}).data\n",
    "data_rs = data.reshape((256,4,32,4,32))\n",
    "da_rs = xr.DataArray(data_rs, dims=['time','y_segment','y','x_segment','x'])\n",
    "da2 = xr.DataArray(dsar.fft.fftn(data_rs, axes=[2,4]).compute(),\n",
    "                   dims=['time','y_segment','freq_y','x_segment','freq_x'])\n",
    "da2"
   ]
  },
  {
   "cell_type": "markdown",
   "metadata": {},
   "source": [
    "We assert that our calculations give equal results."
   ]
  },
  {
   "cell_type": "code",
   "execution_count": 11,
   "metadata": {},
   "outputs": [],
   "source": [
    "npt.assert_almost_equal(da2, daft.values)"
   ]
  },
  {
   "cell_type": "markdown",
   "metadata": {},
   "source": [
    "### Power Spectrum"
   ]
  },
  {
   "cell_type": "code",
   "execution_count": 12,
   "metadata": {},
   "outputs": [
    {
     "data": {
      "text/plain": [
       "<xarray.DataArray 'concatenate-bbb736a9c1877371c276228ba980079a' (freq_y: 64, freq_x: 64)>\n",
       "dask.array<mean_agg-aggregate, shape=(64, 64), dtype=float64, chunksize=(32, 32)>\n",
       "Coordinates:\n",
       "  * freq_y          (freq_y) float64 -0.5 -0.4844 -0.4688 -0.4531 -0.4375 ...\n",
       "  * freq_x          (freq_x) float64 -0.5 -0.4844 -0.4688 -0.4531 -0.4375 ...\n",
       "    freq_y_spacing  float64 0.01562\n",
       "    freq_x_spacing  float64 0.01562"
      ]
     },
     "execution_count": 12,
     "metadata": {},
     "output_type": "execute_result"
    }
   ],
   "source": [
    "ps = xrft.power_spectrum(da.chunk({'time':1,'y':64,'x':64}), dim=['y','x'], chunks_to_segments=True, detrend='linear')\n",
    "ps = ps.mean(['time','y_segment','x_segment'])\n",
    "ps"
   ]
  },
  {
   "cell_type": "code",
   "execution_count": 13,
   "metadata": {},
   "outputs": [
    {
     "data": {
      "text/plain": [
       "<matplotlib.collections.QuadMesh at 0x10ebba278>"
      ]
     },
     "execution_count": 13,
     "metadata": {},
     "output_type": "execute_result"
    },
    {
     "data": {
      "image/png": "[encoded data removed]",
      "text/plain": [
       "<matplotlib.figure.Figure at 0x11a9f6c88>"
      ]
     },
     "metadata": {},
     "output_type": "display_data"
    }
   ],
   "source": [
    "fig, ax = plt.subplots()\n",
    "ps.plot(ax=ax, norm=colors.LogNorm(), vmin=4.5e-3, vmax=5.5e-3)"
   ]
  },
  {
   "cell_type": "code",
   "execution_count": null,
   "metadata": {},
   "outputs": [],
   "source": []
  }
 ],
 "metadata": {
  "kernelspec": {
   "display_name": "Python 3 (xrft)",
   "language": "python",
   "name": "xrft"
  },
  "language_info": {
   "codemirror_mode": {
    "name": "ipython",
    "version": 3
   },
   "file_extension": ".py",
   "mimetype": "text/x-python",
   "name": "python",
   "nbconvert_exporter": "python",
   "pygments_lexer": "ipython3",
   "version": "3.6.1"
  }
 },
 "nbformat": 4,
 "nbformat_minor": 2
}
