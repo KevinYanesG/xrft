{
 "cells": [
  {
   "cell_type": "code",
   "execution_count": 33,
   "metadata": {},
   "outputs": [],
   "source": [
    "import numpy as np\n",
    "import numpy.testing as npt\n",
    "import xarray as xr\n",
    "import xrft\n",
    "import dask.array as dsar\n",
    "from matplotlib import colors\n",
    "import matplotlib.pyplot as plt\n",
    "%matplotlib inline"
   ]
  },
  {
   "cell_type": "markdown",
   "metadata": {},
   "source": [
    "# Parallelized Bartlett's Method\n",
    "For long data sets that have reached statistical equilibrium, it is useful to chunk the data, calculate the periodogram for each chunk and then take the average to reduce variance."
   ]
  },
  {
   "cell_type": "code",
   "execution_count": 39,
   "metadata": {},
   "outputs": [
    {
     "data": {
      "text/plain": [
       "<xarray.DataArray (time: 256, y: 128, x: 128)>\n",
       "array([[[ 0.708204,  0.623306, ...,  0.633413,  0.175358],\n",
       "        [ 0.081545,  0.830202, ...,  0.868449,  0.127926],\n",
       "        ..., \n",
       "        [ 0.191606,  0.293656, ...,  0.556694,  0.082077],\n",
       "        [ 0.792495,  0.680035, ...,  0.586443,  0.723934]],\n",
       "\n",
       "       [[ 0.473775,  0.753015, ...,  0.81156 ,  0.784373],\n",
       "        [ 0.534178,  0.587411, ...,  0.455145,  0.35406 ],\n",
       "        ..., \n",
       "        [ 0.731346,  0.186341, ...,  0.740023,  0.082606],\n",
       "        [ 0.937825,  0.254841, ...,  0.100474,  0.221195]],\n",
       "\n",
       "       ..., \n",
       "       [[ 0.472905,  0.655343, ...,  0.580102,  0.733418],\n",
       "        [ 0.051623,  0.434491, ...,  0.788993,  0.63998 ],\n",
       "        ..., \n",
       "        [ 0.490789,  0.074917, ...,  0.946635,  0.350554],\n",
       "        [ 0.789233,  0.90381 , ...,  0.074425,  0.324881]],\n",
       "\n",
       "       [[ 0.166927,  0.891967, ...,  0.378693,  0.107187],\n",
       "        [ 0.336705,  0.545057, ...,  0.867882,  0.185894],\n",
       "        ..., \n",
       "        [ 0.947818,  0.855856, ...,  0.095839,  0.060094],\n",
       "        [ 0.912694,  0.129944, ...,  0.183476,  0.697177]]])\n",
       "Dimensions without coordinates: time, y, x"
      ]
     },
     "execution_count": 39,
     "metadata": {},
     "output_type": "execute_result"
    }
   ],
   "source": [
    "n = int(2**8)\n",
    "da = xr.DataArray(np.random.rand(n,int(n/2),int(n/2)), dims=['time','y','x'])\n",
    "da"
   ]
  },
  {
   "cell_type": "markdown",
   "metadata": {},
   "source": [
    "## One dimension\n",
    "### Discrete Fourier Transform"
   ]
  },
  {
   "cell_type": "code",
   "execution_count": 40,
   "metadata": {},
   "outputs": [
    {
     "data": {
      "text/plain": [
       "<xarray.DataArray 'fftn-ebc9f8f719f72665cabdd992420a392b' (time_segment: 4, freq_time: 64, y: 128, x: 128)>\n",
       "array([[[[ 34.678448+0.j      , ...,  33.360196+0.j      ],\n",
       "         ..., \n",
       "         [ 30.047755+0.j      , ...,  32.477188+0.j      ]],\n",
       "\n",
       "        ..., \n",
       "        [[ -0.839324-2.093284j, ...,   0.783955+1.058623j],\n",
       "         ..., \n",
       "         [  0.968250+1.362974j, ...,   0.350211+1.043625j]]],\n",
       "\n",
       "\n",
       "       ..., \n",
       "       [[[ 33.932557+0.j      , ...,  26.678665+0.j      ],\n",
       "         ..., \n",
       "         [ 33.875314+0.j      , ...,  26.582230+0.j      ]],\n",
       "\n",
       "        ..., \n",
       "        [[ -2.666363-1.368176j, ...,   1.331759-3.620162j],\n",
       "         ..., \n",
       "         [  1.562490+1.308685j, ...,   2.192812-0.751168j]]]])\n",
       "Coordinates:\n",
       "  * time_segment       (time_segment) int64 0 1 2 3\n",
       "  * freq_time          (freq_time) float64 0.0 0.01562 0.03125 0.04688 ...\n",
       "  * y                  (y) int64 0 1 2 3 4 5 6 7 8 9 10 11 12 13 14 15 16 17 ...\n",
       "  * x                  (x) int64 0 1 2 3 4 5 6 7 8 9 10 11 12 13 14 15 16 17 ...\n",
       "    freq_time_spacing  float64 0.01562"
      ]
     },
     "execution_count": 40,
     "metadata": {},
     "output_type": "execute_result"
    }
   ],
   "source": [
    "daft = xrft.dft(da.chunk({'time':int(n/4)}), dim=['time'], shift=False , chunks_to_segments=True).compute()\n",
    "daft"
   ]
  },
  {
   "cell_type": "code",
   "execution_count": 41,
   "metadata": {},
   "outputs": [
    {
     "data": {
      "text/plain": [
       "<xarray.DataArray (time_segment: 4, freq_time: 64, y: 128, x: 128)>\n",
       "array([[[[ 34.678448+0.j      , ...,  33.360196+0.j      ],\n",
       "         ..., \n",
       "         [ 30.047755+0.j      , ...,  32.477188+0.j      ]],\n",
       "\n",
       "        ..., \n",
       "        [[ -0.839324-2.093284j, ...,   0.783955+1.058623j],\n",
       "         ..., \n",
       "         [  0.968250+1.362974j, ...,   0.350211+1.043625j]]],\n",
       "\n",
       "\n",
       "       ..., \n",
       "       [[[ 33.932557+0.j      , ...,  26.678665+0.j      ],\n",
       "         ..., \n",
       "         [ 33.875314+0.j      , ...,  26.582230+0.j      ]],\n",
       "\n",
       "        ..., \n",
       "        [[ -2.666363-1.368176j, ...,   1.331759-3.620162j],\n",
       "         ..., \n",
       "         [  1.562490+1.308685j, ...,   2.192812-0.751168j]]]])\n",
       "Dimensions without coordinates: time_segment, freq_time, y, x"
      ]
     },
     "execution_count": 41,
     "metadata": {},
     "output_type": "execute_result"
    }
   ],
   "source": [
    "data = da.chunk({'time':int(n/4)}).data\n",
    "data_rs = data.reshape((4,int(n/4),int(n/2),int(n/2)))\n",
    "da_rs = xr.DataArray(data_rs, dims=['time_segment','time','y','x'])\n",
    "da1 = xr.DataArray(dsar.fft.fftn(data_rs, axes=[1]).compute(),\n",
    "                   dims=['time_segment','freq_time','y','x'])\n",
    "da1"
   ]
  },
  {
   "cell_type": "markdown",
   "metadata": {},
   "source": [
    "We assert that our calculations give equal results."
   ]
  },
  {
   "cell_type": "code",
   "execution_count": 42,
   "metadata": {},
   "outputs": [],
   "source": [
    "npt.assert_almost_equal(da1, daft.values)"
   ]
  },
  {
   "cell_type": "markdown",
   "metadata": {},
   "source": [
    "### Power Spectrum"
   ]
  },
  {
   "cell_type": "code",
   "execution_count": 43,
   "metadata": {},
   "outputs": [
    {
     "data": {
      "text/plain": [
       "<xarray.DataArray 'concatenate-1be9636e43154eccfc587490ca0062c4' (time_segment: 4, freq_time: 64, y: 128, x: 128)>\n",
       "dask.array<truediv, shape=(4, 64, 128, 128), dtype=float64, chunksize=(1, 32, 128, 128)>\n",
       "Coordinates:\n",
       "  * time_segment       (time_segment) int64 0 1 2 3\n",
       "  * freq_time          (freq_time) float64 -0.5 -0.4844 -0.4688 -0.4531 ...\n",
       "  * y                  (y) int64 0 1 2 3 4 5 6 7 8 9 10 11 12 13 14 15 16 17 ...\n",
       "  * x                  (x) int64 0 1 2 3 4 5 6 7 8 9 10 11 12 13 14 15 16 17 ...\n",
       "    freq_time_spacing  float64 0.01562"
      ]
     },
     "execution_count": 43,
     "metadata": {},
     "output_type": "execute_result"
    }
   ],
   "source": [
    "ps = xrft.power_spectrum(da.chunk({'time':int(n/4)}), dim=['time'], chunks_to_segments=True)\n",
    "ps"
   ]
  },
  {
   "cell_type": "markdown",
   "metadata": {},
   "source": [
    "Taking the mean over the segments gives the Barlett's estimate."
   ]
  },
  {
   "cell_type": "code",
   "execution_count": 44,
   "metadata": {},
   "outputs": [
    {
     "data": {
      "text/plain": [
       "<xarray.DataArray 'concatenate-1be9636e43154eccfc587490ca0062c4' (freq_time: 64)>\n",
       "dask.array<mean_agg-aggregate, shape=(64,), dtype=float64, chunksize=(32,)>\n",
       "Coordinates:\n",
       "  * freq_time          (freq_time) float64 -0.5 -0.4844 -0.4688 -0.4531 ...\n",
       "    freq_time_spacing  float64 0.01562"
      ]
     },
     "execution_count": 44,
     "metadata": {},
     "output_type": "execute_result"
    }
   ],
   "source": [
    "ps = ps.mean(['time_segment','y','x'])\n",
    "ps"
   ]
  },
  {
   "cell_type": "code",
   "execution_count": 49,
   "metadata": {},
   "outputs": [
    {
     "data": {
      "text/plain": [
       "[<matplotlib.lines.Line2D at 0x11097ef60>]"
      ]
     },
     "execution_count": 49,
     "metadata": {},
     "output_type": "execute_result"
    },
    {
     "data": {
      "image/png": "[encoded data removed]",
      "text/plain": [
       "<matplotlib.figure.Figure at 0x10f8fc898>"
      ]
     },
     "metadata": {},
     "output_type": "display_data"
    }
   ],
   "source": [
    "fig, ax = plt.subplots()\n",
    "ax.semilogx(ps.freq_time[int(n/8)+1:], ps[int(n/8)+1:])"
   ]
  },
  {
   "cell_type": "markdown",
   "metadata": {},
   "source": [
    "## Two dimension\n",
    "### Discrete Fourier Transform"
   ]
  },
  {
   "cell_type": "code",
   "execution_count": 50,
   "metadata": {},
   "outputs": [
    {
     "data": {
      "text/plain": [
       "<xarray.DataArray 'fftn-ac97487485e04b34c78d3bb19abd656f' (time: 256, y_segment: 4, freq_y: 32, x_segment: 4, freq_x: 32)>\n",
       "array([[[[[  5.155037e+02 +0.j      , ...,  -9.064487e-02 +4.346549j],\n",
       "          ..., \n",
       "          [  5.207532e+02 +0.j      , ...,   1.652457e+00 -1.577071j]],\n",
       "\n",
       "         ..., \n",
       "         [[ -2.151390e+00 -3.923976j, ...,   5.437534e+00 -2.673446j],\n",
       "          ..., \n",
       "          [ -9.625904e+00 -3.852991j, ...,   4.701084e+00 +8.104852j]]],\n",
       "\n",
       "\n",
       "        ..., \n",
       "        [[[  5.125364e+02 +0.j      , ...,   9.436120e+00 +0.416432j],\n",
       "          ..., \n",
       "          [  5.131432e+02 +0.j      , ...,  -7.539077e+00 -7.660807j]],\n",
       "\n",
       "         ..., \n",
       "         [[  1.408086e+01 +5.188298j, ...,  -7.208214e+00 -0.392723j],\n",
       "          ..., \n",
       "          [ -5.457056e-01 +0.931977j, ...,   8.330142e+00 +7.106618j]]]],\n",
       "\n",
       "\n",
       "\n",
       "       ..., \n",
       "       [[[[  5.025914e+02 +0.j      , ...,  -3.253753e+00 +2.069255j],\n",
       "          ..., \n",
       "          [  5.150235e+02 +0.j      , ...,   3.429467e-01 +0.507274j]],\n",
       "\n",
       "         ..., \n",
       "         [[ -8.339027e+00 +3.417548j, ...,   2.351545e-01 -3.212228j],\n",
       "          ..., \n",
       "          [  5.880714e+00 -1.827279j, ...,  -1.126393e+01 +1.096435j]]],\n",
       "\n",
       "\n",
       "        ..., \n",
       "        [[[  4.960941e+02 +0.j      , ...,  -1.580079e+00 -6.208281j],\n",
       "          ..., \n",
       "          [  4.970974e+02 +0.j      , ...,   5.916142e+00 +4.806882j]],\n",
       "\n",
       "         ..., \n",
       "         [[ -6.508780e+00 +3.89506j , ...,  -8.965378e+00 -9.173629j],\n",
       "          ..., \n",
       "          [ -5.514062e+00 +0.293258j, ...,  -5.334744e+00+14.415362j]]]]])\n",
       "Coordinates:\n",
       "  * time            (time) int64 0 1 2 3 4 5 6 7 8 9 10 11 12 13 14 15 16 17 ...\n",
       "  * y_segment       (y_segment) int64 0 1 2 3\n",
       "  * freq_y          (freq_y) float64 0.0 0.03125 0.0625 0.09375 0.125 0.1562 ...\n",
       "  * x_segment       (x_segment) int64 0 1 2 3\n",
       "  * freq_x          (freq_x) float64 0.0 0.03125 0.0625 0.09375 0.125 0.1562 ...\n",
       "    freq_y_spacing  float64 0.03125\n",
       "    freq_x_spacing  float64 0.03125"
      ]
     },
     "execution_count": 50,
     "metadata": {},
     "output_type": "execute_result"
    }
   ],
   "source": [
    "daft = xrft.dft(da.chunk({'y':32,'x':32}), dim=['y','x'], shift=False , chunks_to_segments=True).compute()\n",
    "daft"
   ]
  },
  {
   "cell_type": "code",
   "execution_count": 51,
   "metadata": {},
   "outputs": [
    {
     "data": {
      "text/plain": [
       "<xarray.DataArray (time: 256, y_segment: 4, freq_y: 32, x_segment: 4, freq_x: 32)>\n",
       "array([[[[[  5.155037e+02 +0.j      , ...,  -9.064487e-02 +4.346549j],\n",
       "          ..., \n",
       "          [  5.207532e+02 +0.j      , ...,   1.652457e+00 -1.577071j]],\n",
       "\n",
       "         ..., \n",
       "         [[ -2.151390e+00 -3.923976j, ...,   5.437534e+00 -2.673446j],\n",
       "          ..., \n",
       "          [ -9.625904e+00 -3.852991j, ...,   4.701084e+00 +8.104852j]]],\n",
       "\n",
       "\n",
       "        ..., \n",
       "        [[[  5.125364e+02 +0.j      , ...,   9.436120e+00 +0.416432j],\n",
       "          ..., \n",
       "          [  5.131432e+02 +0.j      , ...,  -7.539077e+00 -7.660807j]],\n",
       "\n",
       "         ..., \n",
       "         [[  1.408086e+01 +5.188298j, ...,  -7.208214e+00 -0.392723j],\n",
       "          ..., \n",
       "          [ -5.457056e-01 +0.931977j, ...,   8.330142e+00 +7.106618j]]]],\n",
       "\n",
       "\n",
       "\n",
       "       ..., \n",
       "       [[[[  5.025914e+02 +0.j      , ...,  -3.253753e+00 +2.069255j],\n",
       "          ..., \n",
       "          [  5.150235e+02 +0.j      , ...,   3.429467e-01 +0.507274j]],\n",
       "\n",
       "         ..., \n",
       "         [[ -8.339027e+00 +3.417548j, ...,   2.351545e-01 -3.212228j],\n",
       "          ..., \n",
       "          [  5.880714e+00 -1.827279j, ...,  -1.126393e+01 +1.096435j]]],\n",
       "\n",
       "\n",
       "        ..., \n",
       "        [[[  4.960941e+02 +0.j      , ...,  -1.580079e+00 -6.208281j],\n",
       "          ..., \n",
       "          [  4.970974e+02 +0.j      , ...,   5.916142e+00 +4.806882j]],\n",
       "\n",
       "         ..., \n",
       "         [[ -6.508780e+00 +3.89506j , ...,  -8.965378e+00 -9.173629j],\n",
       "          ..., \n",
       "          [ -5.514062e+00 +0.293258j, ...,  -5.334744e+00+14.415362j]]]]])\n",
       "Dimensions without coordinates: time, y_segment, freq_y, x_segment, freq_x"
      ]
     },
     "execution_count": 51,
     "metadata": {},
     "output_type": "execute_result"
    }
   ],
   "source": [
    "data = da.chunk({'y':32,'x':32}).data\n",
    "data_rs = data.reshape((256,4,32,4,32))\n",
    "da_rs = xr.DataArray(data_rs, dims=['time','y_segment','y','x_segment','x'])\n",
    "da2 = xr.DataArray(dsar.fft.fftn(data_rs, axes=[2,4]).compute(),\n",
    "                   dims=['time','y_segment','freq_y','x_segment','freq_x'])\n",
    "da2"
   ]
  },
  {
   "cell_type": "markdown",
   "metadata": {},
   "source": [
    "We assert that our calculations give equal results."
   ]
  },
  {
   "cell_type": "code",
   "execution_count": 52,
   "metadata": {},
   "outputs": [],
   "source": [
    "npt.assert_almost_equal(da2, daft.values)"
   ]
  },
  {
   "cell_type": "markdown",
   "metadata": {},
   "source": [
    "### Power Spectrum"
   ]
  },
  {
   "cell_type": "code",
   "execution_count": 53,
   "metadata": {},
   "outputs": [
    {
     "data": {
      "text/plain": [
       "<xarray.DataArray 'concatenate-4377450b24443f054e4ccb5b2ff1fe77' (freq_y: 64, freq_x: 64)>\n",
       "dask.array<mean_agg-aggregate, shape=(64, 64), dtype=float64, chunksize=(32, 32)>\n",
       "Coordinates:\n",
       "  * freq_y          (freq_y) float64 -0.5 -0.4844 -0.4688 -0.4531 -0.4375 ...\n",
       "  * freq_x          (freq_x) float64 -0.5 -0.4844 -0.4688 -0.4531 -0.4375 ...\n",
       "    freq_y_spacing  float64 0.01562\n",
       "    freq_x_spacing  float64 0.01562"
      ]
     },
     "execution_count": 53,
     "metadata": {},
     "output_type": "execute_result"
    }
   ],
   "source": [
    "ps = xrft.power_spectrum(da.chunk({'y':64,'x':64}), dim=['y','x'], chunks_to_segments=True, detrend='constant')\n",
    "ps = ps.mean(['time','y_segment','x_segment'])\n",
    "ps"
   ]
  },
  {
   "cell_type": "code",
   "execution_count": 64,
   "metadata": {},
   "outputs": [
    {
     "data": {
      "text/plain": [
       "<matplotlib.collections.QuadMesh at 0x112d812e8>"
      ]
     },
     "execution_count": 64,
     "metadata": {},
     "output_type": "execute_result"
    },
    {
     "data": {
      "image/png": "[encoded data removed]",
      "text/plain": [
       "<matplotlib.figure.Figure at 0x1124b7a90>"
      ]
     },
     "metadata": {},
     "output_type": "display_data"
    }
   ],
   "source": [
    "fig, ax = plt.subplots()\n",
    "ps.plot(ax=ax, norm=colors.LogNorm(), vmin=4.5e-3, vmax=5.5e-3)"
   ]
  },
  {
   "cell_type": "code",
   "execution_count": null,
   "metadata": {},
   "outputs": [],
   "source": []
  }
 ],
 "metadata": {
  "kernelspec": {
   "display_name": "Python 3 (xrft)",
   "language": "python",
   "name": "xrft"
  },
  "language_info": {
   "codemirror_mode": {
    "name": "ipython",
    "version": 3
   },
   "file_extension": ".py",
   "mimetype": "text/x-python",
   "name": "python",
   "nbconvert_exporter": "python",
   "pygments_lexer": "ipython3",
   "version": "3.6.1"
  }
 },
 "nbformat": 4,
 "nbformat_minor": 2
}
